{
  "nbformat": 4,
  "nbformat_minor": 0,
  "metadata": {
    "colab": {
      "provenance": [],
      "authorship_tag": "ABX9TyNlJ0IHVZi5Ka2dKi/09PPG",
      "include_colab_link": true
    },
    "kernelspec": {
      "name": "python3",
      "display_name": "Python 3"
    },
    "language_info": {
      "name": "python"
    }
  },
  "cells": [
    {
      "cell_type": "markdown",
      "metadata": {
        "id": "view-in-github",
        "colab_type": "text"
      },
      "source": [
        "<a href=\"https://colab.research.google.com/github/DSlaughter01/election-stability/blob/main/electoral_systems.ipynb\" target=\"_parent\"><img src=\"https://colab.research.google.com/assets/colab-badge.svg\" alt=\"Open In Colab\"/></a>"
      ]
    },
    {
      "cell_type": "markdown",
      "source": [
        "## A cleaner attempt at creating an election class"
      ],
      "metadata": {
        "id": "h8pcvJFyqCZk"
      }
    },
    {
      "cell_type": "code",
      "execution_count": null,
      "metadata": {
        "colab": {
          "base_uri": "https://localhost:8080/"
        },
        "id": "i_egXBIbp1cF",
        "outputId": "06d81503-f651-4eb7-9a36-f05ce05321a1"
      },
      "outputs": [
        {
          "output_type": "stream",
          "name": "stdout",
          "text": [
            "Collecting igraph\n",
            "  Downloading igraph-0.10.6-cp39-abi3-manylinux_2_17_x86_64.manylinux2014_x86_64.whl (3.3 MB)\n",
            "\u001b[2K     \u001b[90m━━━━━━━━━━━━━━━━━━━━━━━━━━━━━━━━━━━━━━━━\u001b[0m \u001b[32m3.3/3.3 MB\u001b[0m \u001b[31m11.0 MB/s\u001b[0m eta \u001b[36m0:00:00\u001b[0m\n",
            "\u001b[?25hCollecting texttable>=1.6.2 (from igraph)\n",
            "  Downloading texttable-1.6.7-py2.py3-none-any.whl (10 kB)\n",
            "Installing collected packages: texttable, igraph\n",
            "Successfully installed igraph-0.10.6 texttable-1.6.7\n",
            "Collecting cairocffi\n",
            "  Downloading cairocffi-1.6.1-py3-none-any.whl (75 kB)\n",
            "\u001b[2K     \u001b[90m━━━━━━━━━━━━━━━━━━━━━━━━━━━━━━━━━━━━━━━━\u001b[0m \u001b[32m75.1/75.1 kB\u001b[0m \u001b[31m1.8 MB/s\u001b[0m eta \u001b[36m0:00:00\u001b[0m\n",
            "\u001b[?25hRequirement already satisfied: cffi>=1.1.0 in /usr/local/lib/python3.10/dist-packages (from cairocffi) (1.15.1)\n",
            "Requirement already satisfied: pycparser in /usr/local/lib/python3.10/dist-packages (from cffi>=1.1.0->cairocffi) (2.21)\n",
            "Installing collected packages: cairocffi\n",
            "Successfully installed cairocffi-1.6.1\n"
          ]
        }
      ],
      "source": [
        "# Import and install necessary modules\n",
        "!pip install igraph\n",
        "!pip install cairocffi\n",
        "\n",
        "import numpy as np\n",
        "import matplotlib.pyplot as plt\n",
        "import pandas as pd\n",
        "import igraph as ig\n",
        "import cairocffi\n",
        "from statistics import mode\n",
        "from collections import Counter\n",
        "from math import floor, ceil\n",
        "from heapq import nlargest\n",
        "from random import choices, choice\n",
        "import seaborn as sns\n",
        "import time\n",
        "import warnings"
      ]
    },
    {
      "cell_type": "code",
      "source": [
        "class Election():\n",
        "\n",
        "  # Which functions do we need?\n",
        "  def __init__(self, n = 500, part = 3, elecs = 100, iters = 5000, dist = 10,\n",
        "               pref = 1, zeal = 0.05, alpha = 0.05, t = 0, track = False):\n",
        "\n",
        "    self.n = n          # The number of nodes in the network\n",
        "    self.part = part    # The number of parties available to vote for\n",
        "    self.elecs = elecs  # The number of elections to perform\n",
        "    self.iters = iters  # Number of interactions between voters\n",
        "    self.dist = dist    # Number of electoral districts (= seats available for now)\n",
        "    self.pref = pref    # Number of voter party preferences\n",
        "    self.zeal = zeal    # Probability that a node in the zealot party is a zealot\n",
        "    self.alpha = alpha  # Noise rate\n",
        "    self.t = t          # Whether it is the first election or not\n",
        "    self.track = track  # Whether tracking of every iteration is desired\n",
        "\n",
        "    # The final number of votes and seats in each election - to be\n",
        "    self.votes = np.empty((self.part, self.elecs))\n",
        "    self.seats = np.empty((self.part, self.elecs))\n",
        "\n",
        "    # Tracking votes over iterations of the voter model if desired\n",
        "    self.vm_tracker = []\n",
        "    if self.track == True:\n",
        "      self.vm_tracker = np.empty((self.elecs, self.iters, self.part))\n",
        "\n",
        "    # Check parameter values\n",
        "    if self.zeal > 1: raise ValueError(\"Please enter a zeal value between 0 and 1\")\n",
        "    if self.alpha > 1: raise ValueError(\"Please enter an alpha value between 0 and 1\")\n",
        "\n",
        "\n",
        "\n",
        "  def init_graph(self):\n",
        "    # Function to initialise a graph, and allocate zealots and opinions\n",
        "\n",
        "    a = self.dist\n",
        "\n",
        "    # First generate an SBM\n",
        "    # The preference matrix - symmetric, stronger on the diagonal, random\n",
        "    lt = np.tril(np.random.rand(10, 10), k = -1)\n",
        "    ut = np.transpose(lt)\n",
        "    diags = np.diag(np.random.rand(10))\n",
        "    pref_mat = 0.25*(lt + ut + diags) + 0.75*(np.identity(10))\n",
        "\n",
        "    # Generate the SBM from this preference matrix\n",
        "    split = np.array_split(range(self.n), a)\n",
        "    block_sizes = [len(i) for i in split]\n",
        "    start_graph = ig.Graph.SBM(n = self.n,\n",
        "                               pref_matrix = list(pref_mat),\n",
        "                               block_sizes = block_sizes)\n",
        "\n",
        "\n",
        "\n",
        "\n",
        "  # One to perform iterations of the voter model\n",
        "  def voter_model(self, track = False):\n",
        "    pass\n",
        "\n",
        "  # One to plot iterations of the voter model\n",
        "  def vm_plot(self):\n",
        "    pass\n",
        "\n",
        "  # One for each electoral system\n",
        "  # FPTP\n",
        "  def fptp(self):\n",
        "    pass\n",
        "\n",
        "  # PR\n",
        "  def pr(self):\n",
        "    pass\n",
        "\n",
        "  # Two-round system - may be difficult allocating political opinions\n",
        "  def two_round(self):\n",
        "    pass\n",
        "\n",
        "  # STV - need to allocate multiple opinions\n",
        "  def stv(self):\n",
        "    pass\n",
        "\n",
        "  # One to plot how the underlying network looks\n",
        "  def net_plot(self):\n",
        "    pass\n",
        "\n",
        "  # One to plot histograms\n",
        "  def plot_hist(self):\n",
        "    pass\n",
        "\n",
        "\n",
        "\n",
        "  # How can we efficiently allocate space, and reduce time?"
      ],
      "metadata": {
        "id": "1DfEJ-4rqXdV"
      },
      "execution_count": null,
      "outputs": []
    },
    {
      "cell_type": "code",
      "source": [
        "g = Election()\n",
        "g.init_graph()"
      ],
      "metadata": {
        "id": "-VklTQC4J99x"
      },
      "execution_count": null,
      "outputs": []
    },
    {
      "cell_type": "markdown",
      "source": [],
      "metadata": {
        "id": "ithyCPUcp3HT"
      }
    }
  ]
}