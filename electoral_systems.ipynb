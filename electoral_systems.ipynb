{
  "cells": [
    {
      "cell_type": "markdown",
      "metadata": {
        "colab_type": "text",
        "id": "view-in-github"
      },
      "source": [
        "<a href=\"https://colab.research.google.com/github/DSlaughter01/election-stability/blob/main/electoral_systems.ipynb\" target=\"_parent\"><img src=\"https://colab.research.google.com/assets/colab-badge.svg\" alt=\"Open In Colab\"/></a>"
      ]
    },
    {
      "cell_type": "markdown",
      "metadata": {
        "id": "h8pcvJFyqCZk"
      },
      "source": [
        "## A cleaner attempt at creating an election class"
      ]
    },
    {
      "cell_type": "code",
      "execution_count": 5,
      "metadata": {
        "colab": {
          "base_uri": "https://localhost:8080/"
        },
        "id": "i_egXBIbp1cF",
        "outputId": "06d81503-f651-4eb7-9a36-f05ce05321a1"
      },
      "outputs": [
        {
          "name": "stdout",
          "output_type": "stream",
          "text": [
            "Requirement already satisfied: igraph in c:\\users\\dansl\\appdata\\local\\programs\\python\\python311\\lib\\site-packages (0.10.8)Note: you may need to restart the kernel to use updated packages.\n",
            "\n",
            "Requirement already satisfied: texttable>=1.6.2 in c:\\users\\dansl\\appdata\\local\\programs\\python\\python311\\lib\\site-packages (from igraph) (1.6.7)\n",
            "Requirement already satisfied: cairocffi in c:\\users\\dansl\\appdata\\local\\programs\\python\\python311\\lib\\site-packages (1.6.1)\n",
            "Requirement already satisfied: cffi>=1.1.0 in c:\\users\\dansl\\appdata\\local\\programs\\python\\python311\\lib\\site-packages (from cairocffi) (1.15.1)\n",
            "Requirement already satisfied: pycparser in c:\\users\\dansl\\appdata\\local\\programs\\python\\python311\\lib\\site-packages (from cffi>=1.1.0->cairocffi) (2.21)\n",
            "Note: you may need to restart the kernel to use updated packages.\n"
          ]
        }
      ],
      "source": [
        "# Import and install necessary modules\n",
        "%pip install igraph\n",
        "%pip install cairocffi\n",
        "\n",
        "import numpy as np\n",
        "import matplotlib.pyplot as plt\n",
        "import pandas as pd\n",
        "import igraph as ig\n",
        "# import cairocffi\n",
        "from statistics import mode\n",
        "from collections import Counter\n",
        "from math import floor, ceil\n",
        "from heapq import nlargest\n",
        "from random import choices, choice, shuffle\n",
        "import seaborn as sns\n",
        "import time\n",
        "import warnings"
      ]
    },
    {
      "cell_type": "code",
      "execution_count": 6,
      "metadata": {
        "id": "1DfEJ-4rqXdV"
      },
      "outputs": [],
      "source": [
        "class Election():\n",
        "\n",
        "  def __init__(self, n = 500, part = 3, elecs = 100, iters = 5000, dist = 10,\n",
        "               pref = 1, zeal = 0.05, alpha = 0.05, t = 0, track = False):\n",
        "\n",
        "    self.n = n          # The number of nodes in the network\n",
        "    self.part = part    # The number of parties available to vote for\n",
        "    self.elecs = elecs  # The number of elections to perform\n",
        "    self.iters = iters  # Number of interactions between voters\n",
        "    self.dist = dist    # Number of electoral districts (= seats available for now)\n",
        "    self.pref = pref    # Number of voter party preferences\n",
        "    self.zeal = zeal    # Probability that a node in the zealot party is a zealot\n",
        "    self.alpha = alpha  # Noise rate\n",
        "    self.t = t          # Whether it is the first election (t = 0) or not\n",
        "    self.track = track  # Whether tracking of every iteration is desired\n",
        "\n",
        "    # The final number of votes and seats in each election - to be\n",
        "    self.votes = np.empty((self.part, self.elecs))\n",
        "    self.seats = np.empty((self.part, self.elecs))\n",
        "\n",
        "    # Tracking votes over iterations of the voter model if desired\n",
        "    self.vm_tracker = []\n",
        "    if self.track:\n",
        "      self.vm_tracker = np.empty((self.elecs, self.iters, self.part))\n",
        "\n",
        "    # Check parameter values\n",
        "    if self.zeal > 1 or self.zeal < 0: \n",
        "      raise ValueError(\"Please enter a zeal value between 0 and 1\")\n",
        "    if self.alpha > 1 or self.alpha < 0: \n",
        "      raise ValueError(\"Please enter an alpha value between 0 and 1\")\n",
        "\n",
        "\n",
        "\n",
        "  def init_graph(self):\n",
        "    \"\"\"\n",
        "    Function to initialise a graph, and allocate zealots and opinions\n",
        "    \"\"\"\n",
        "\n",
        "    a = self.dist\n",
        "\n",
        "    # First generate an SBM\n",
        "    # The preference matrix - symmetric, stronger on the diagonal, random\n",
        "    lt = np.tril(np.random.rand(10, 10), k = -1)\n",
        "    ut = np.transpose(lt)\n",
        "    diags = np.diag(np.random.rand(10))\n",
        "    pref_mat = 0.25*(lt + ut + diags) + 0.75*(np.identity(10))\n",
        "\n",
        "    # Generate the SBM from this preference matrix\n",
        "    split = np.array_split(range(self.n), a)\n",
        "    block_sizes = [len(i) for i in split]\n",
        "    start_graph = ig.Graph.SBM(n = self.n,\n",
        "                               pref_matrix = list(pref_mat),\n",
        "                               block_sizes = block_sizes)\n",
        "    \n",
        "    # Assign a State to each node from self.part states\n",
        "    # Take into account the number of preferences\n",
        "\n",
        "    # Add interaction nodes\n",
        "    if self.zeal == 0:\n",
        "      start_graph.vs()[\"Interaction\"] = \"Normal\"\n",
        "\n",
        "    else:\n",
        "      for i in start_graph.vs():\n",
        "        if i[\"State\"] == 0:\n",
        "          i[\"Interaction\"] = choices([\"Normal\", \"Zealot\"], \n",
        "                                     weights = [round(100*(1 - self.zeal)), round(100*self.zeal)],\n",
        "                                     k = 1)[0]\n",
        "        else:\n",
        "          i[\"Interaction\"] = \"Normal\"\n",
        "    \n",
        "    for i in start_graph.vs():\n",
        "      shuffled_pref = shuffle(self.pref)\n",
        "\n",
        "      for j in range(self.pref):\n",
        "        state = f\"State_{j + 1}\"\n",
        "        i[state] = shuffled_pref[i]\n",
        "\n",
        "    # TODO\n",
        "    # Consider how is best to assign zealots\n",
        "\n",
        "\n",
        "\n",
        "  def voter_model(self, track = False):\n",
        "    \"\"\"\n",
        "    Function to perform iterations of the voter model\n",
        "    \"\"\"\n",
        "    # TODO\n",
        "    # First code voter model when not tracking\n",
        "    # Then extend it to tracking\n",
        "\n",
        "    # Generate an initial graph\n",
        "    self.init_graph()\n",
        "\n",
        "    # Dot notation removed for future convenience\n",
        "    current_graph, p, n = self.curr, self.part, self.n\n",
        "    randint, rand, vert = np.random.randint, np.random.random, current_graph.vs\n",
        "\n",
        "    # Run the voter model for iters iterations\n",
        "    for iter in range(self.iters):\n",
        "\n",
        "      # Select a random node\n",
        "      i = randint(0, n)\n",
        "      active = vert[i]\n",
        "\n",
        "      # Get the number of neighbours\n",
        "      neigh_list = active.neighbors()\n",
        "\n",
        "      # Select a neighbour at random\n",
        "      j = randint(0, len(neigh_list))\n",
        "\n",
        "      # Match the active State to the neighbour State if not zealot\n",
        "      if active[\"Interaction\"] == \"Normal\": \n",
        "        active[\"State\"] = neigh_list[j][\"State\"]\n",
        "\n",
        "      # Implement random change for node i if Interaction is normal\n",
        "      k = rand()\n",
        "      if k <= self.alpha and active[\"Interaction\"] == \"Normal\":\n",
        "        active[\"State\"] = choice([i for i in range(0,self.no_parties) if i != active[\"State\"]])\n",
        "\n",
        "      # Ensure every party is listed even if they have 0 votes\n",
        "      zerokeys, zerovalues = range(self.no_parties), [0]*self.no_parties\n",
        "      zerodict = dict(zip(zerokeys, zerovalues))\n",
        "\n",
        "      # Data for plotting\n",
        "      vote_counts = {}\n",
        "      for k in current_graph.vs()[\"State\"]:\n",
        "        vote_counts[k] = vote_counts.get(k, 0) + 1\n",
        "      vote_counts = {**zerodict, **vote_counts}\n",
        "\n",
        "      # The final stage is the final number of votes\n",
        "      if iter == self.iters - 1:\n",
        "        self.votes.append(list(vote_counts.values()))\n",
        "\n",
        "      # TODO\n",
        "      # Check this works, given the new way of appending\n",
        "\n",
        "  def vm_plot(self):\n",
        "    \"\"\"\n",
        "    Function to plot trajectories of the voter model\n",
        "    \"\"\"\n",
        "    pass\n",
        "\n",
        "  def fptp(self):\n",
        "    \"\"\"\n",
        "    Function to call a runthrough of the voter model, and\n",
        "    perform a First Past the Post (FPTP) election.\n",
        "    \"\"\"\n",
        "    pass\n",
        "\n",
        "\n",
        "  def pr(self):\n",
        "    \"\"\"\n",
        "    Function to call a runthrough of the voter model, and\n",
        "    perform a Proportional Representation (PR) election.\n",
        "    \"\"\"\n",
        "    pass\n",
        "\n",
        "  # Two-round system - may be difficult allocating political opinions\n",
        "  def two_round(self):\n",
        "    pass\n",
        "\n",
        "  # STV - need to allocate multiple opinions\n",
        "  def stv(self):\n",
        "\n",
        "    # The following is not necessarily for any type of election,\n",
        "      # but more how the voter model could handle multiple opinions\n",
        "    # Opinion allocation:\n",
        "      # Take user input/a parameter for how many preferences\n",
        "      # Make a list of the preferences in a range()\n",
        "      # Allocate the first, remove it from the list, repeat until empty list\n",
        "        # Assign an interaction (normal or zealot) to each node\n",
        "\n",
        "    pass\n",
        "\n",
        "  # One to plot how the underlying network looks\n",
        "  def net_plot(self):\n",
        "    \"\"\"\n",
        "    Function to plot the network, including \"Interaction\"\n",
        "    and \"State\" modules\n",
        "    \"\"\"\n",
        "    pass\n",
        "\n",
        "  # One to plot histograms\n",
        "  def plot_hist(self):\n",
        "    pass\n",
        "\n",
        "\n",
        "\n",
        "  # How can we efficiently allocate space, and reduce time?"
      ]
    },
    {
      "cell_type": "code",
      "execution_count": null,
      "metadata": {
        "id": "-VklTQC4J99x"
      },
      "outputs": [],
      "source": [
        "g = Election(pref = 3)\n",
        "g.init_graph()\n",
        "# Print "
      ]
    },
    {
      "cell_type": "code",
      "execution_count": 4,
      "metadata": {},
      "outputs": [
        {
          "name": "stdout",
          "output_type": "stream",
          "text": [
            "range(0, 3)\n"
          ]
        }
      ],
      "source": []
    },
    {
      "cell_type": "markdown",
      "metadata": {
        "id": "ithyCPUcp3HT"
      },
      "source": []
    }
  ],
  "metadata": {
    "colab": {
      "authorship_tag": "ABX9TyNlJ0IHVZi5Ka2dKi/09PPG",
      "include_colab_link": true,
      "provenance": []
    },
    "kernelspec": {
      "display_name": "Python 3",
      "name": "python3"
    },
    "language_info": {
      "codemirror_mode": {
        "name": "ipython",
        "version": 3
      },
      "file_extension": ".py",
      "mimetype": "text/x-python",
      "name": "python",
      "nbconvert_exporter": "python",
      "pygments_lexer": "ipython3",
      "version": "3.11.5"
    }
  },
  "nbformat": 4,
  "nbformat_minor": 0
}
